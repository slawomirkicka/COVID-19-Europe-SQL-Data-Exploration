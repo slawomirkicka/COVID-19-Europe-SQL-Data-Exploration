{
 "cells": [
  {
   "attachments": {},
   "cell_type": "markdown",
   "metadata": {},
   "source": [
    "Prepeare Data for Exploratory Data Analysis\n",
    "Dataset Source https://ourworldindata.org/covid-deaths"
   ]
  },
  {
   "cell_type": "code",
   "execution_count": null,
   "metadata": {},
   "outputs": [],
   "source": [
    "import pandas as pd"
   ]
  },
  {
   "cell_type": "code",
   "execution_count": null,
   "metadata": {},
   "outputs": [],
   "source": [
    "# Load dataset\n",
    "data = pd.read_csv(\"covid-deaths.csv\")\n",
    "data.head()"
   ]
  },
  {
   "cell_type": "code",
   "execution_count": null,
   "metadata": {},
   "outputs": [],
   "source": [
    "# Take only data of Europe\n",
    "data_europe = data[data.continent.isin([\"Europe\"])]\n",
    "data_europe.reset_index(drop=True, inplace=True)"
   ]
  },
  {
   "cell_type": "code",
   "execution_count": null,
   "metadata": {},
   "outputs": [],
   "source": [
    "# Move Population column\n",
    "population = data_europe.pop(\"population\")\n",
    "data_europe.insert(4, \"population\", population)"
   ]
  },
  {
   "cell_type": "code",
   "execution_count": null,
   "metadata": {},
   "outputs": [],
   "source": [
    "# Split dataset into 2 tables\n",
    "n = 41\n",
    "data_europe_1 = data_europe.copy()\n",
    "data_europe_1.drop(columns=data_europe_1.columns[-n:], axis=1, inplace=True)\n",
    "\n",
    "data_europe_2 = data_europe.copy()\n",
    "data_europe_2 = data_europe_2.drop(data_europe_2.iloc[:, 4:26], axis = 1)"
   ]
  },
  {
   "cell_type": "code",
   "execution_count": null,
   "metadata": {},
   "outputs": [],
   "source": [
    "# Save tables into csv files\n",
    "data_europe_1.to_csv('covid_deaths_europe.csv', sep='\\t', index=False)\n",
    "data_europe_2.to_csv('covid_vaccination_europe.csv', sep='\\t', index=False)\n",
    "\n",
    "data_europe_1.to_excel('covid_deaths_europe.xlsx', index=False)\n",
    "data_europe_2.to_excel('covid_vaccination_europe.xlsx', index=False)"
   ]
  }
 ],
 "metadata": {
  "kernelspec": {
   "display_name": "base",
   "language": "python",
   "name": "python3"
  },
  "language_info": {
   "codemirror_mode": {
    "name": "ipython",
    "version": 3
   },
   "file_extension": ".py",
   "mimetype": "text/x-python",
   "name": "python",
   "nbconvert_exporter": "python",
   "pygments_lexer": "ipython3",
   "version": "3.9.12"
  },
  "orig_nbformat": 4,
  "vscode": {
   "interpreter": {
    "hash": "3067ead486e059ec00ffe7555bdb889e6e264a24dc711bf108106cc7baee8d5d"
   }
  }
 },
 "nbformat": 4,
 "nbformat_minor": 2
}
